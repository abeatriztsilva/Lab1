{
 "cells": [
  {
   "cell_type": "markdown",
   "metadata": {},
   "source": [
    "# Solve the following questions without using decision statements (e.g. if) or loops (e.g. for)."
   ]
  },
  {
   "cell_type": "markdown",
   "metadata": {},
   "source": [
    "1) Verify if a value is an integer"
   ]
  },
  {
   "cell_type": "code",
   "execution_count": 1,
   "metadata": {},
   "outputs": [
    {
     "name": "stdout",
     "output_type": "stream",
     "text": [
      "1\n",
      "<class 'int'>\n"
     ]
    }
   ],
   "source": [
    "a=1\n",
    "print(a)\n",
    "print(type(a))"
   ]
  },
  {
   "cell_type": "markdown",
   "metadata": {},
   "source": [
    "2) Verify if a value is even"
   ]
  },
  {
   "cell_type": "code",
   "execution_count": 2,
   "metadata": {},
   "outputs": [
    {
     "data": {
      "text/plain": [
       "False"
      ]
     },
     "execution_count": 2,
     "metadata": {},
     "output_type": "execute_result"
    }
   ],
   "source": [
    "a%2==0"
   ]
  },
  {
   "cell_type": "markdown",
   "metadata": {},
   "source": [
    "3) Insert two numbers. Is the first is bigger than the second?"
   ]
  },
  {
   "cell_type": "code",
   "execution_count": 3,
   "metadata": {},
   "outputs": [
    {
     "data": {
      "text/plain": [
       "False"
      ]
     },
     "execution_count": 3,
     "metadata": {},
     "output_type": "execute_result"
    }
   ],
   "source": [
    "a= 1\n",
    "b= 2\n",
    "a>b"
   ]
  },
  {
   "cell_type": "markdown",
   "metadata": {},
   "source": [
    "4) Verify if one value is multiple of another"
   ]
  },
  {
   "cell_type": "code",
   "execution_count": 4,
   "metadata": {},
   "outputs": [
    {
     "data": {
      "text/plain": [
       "True"
      ]
     },
     "execution_count": 4,
     "metadata": {},
     "output_type": "execute_result"
    }
   ],
   "source": [
    "num1= 20\n",
    "num2= 5\n",
    "num1 % num2==0 or num2 % num1==0"
   ]
  },
  {
   "cell_type": "markdown",
   "metadata": {},
   "source": [
    "5) Calculate the interest earn by an investor that invested an amount of capital of 200 during three years with an interest rate of 3%. (I= PRT)"
   ]
  },
  {
   "cell_type": "code",
   "execution_count": 5,
   "metadata": {},
   "outputs": [
    {
     "name": "stdout",
     "output_type": "stream",
     "text": [
      "18.0\n"
     ]
    }
   ],
   "source": [
    "Capital = 200\n",
    "InterestRate = 0.03\n",
    "Time = 3\n",
    "InterestEarn = Capital*InterestRate*Time\n",
    "print(InterestEarn)"
   ]
  },
  {
   "cell_type": "markdown",
   "metadata": {},
   "source": [
    "6) Capital that an investor obtained after investing an amount of capital of 200 during three years with an interest rate of 3%. (Compound interest)"
   ]
  },
  {
   "cell_type": "code",
   "execution_count": 6,
   "metadata": {},
   "outputs": [
    {
     "name": "stdout",
     "output_type": "stream",
     "text": [
      "218.5454\n"
     ]
    }
   ],
   "source": [
    "CompoundInterest=200*1.03**3\n",
    "print(CompoundInterest)"
   ]
  },
  {
   "cell_type": "markdown",
   "metadata": {},
   "source": [
    "7) Calculate your BMI (Body Mass Index) BMI = mass(kg)/height^2(m)"
   ]
  },
  {
   "cell_type": "code",
   "execution_count": 7,
   "metadata": {},
   "outputs": [
    {
     "name": "stdout",
     "output_type": "stream",
     "text": [
      "23.53036634346221\n"
     ]
    }
   ],
   "source": [
    "weight=58\n",
    "height=1.57\n",
    "BMI=58/1.57**2\n",
    "print(BMI)"
   ]
  },
  {
   "cell_type": "markdown",
   "metadata": {},
   "source": [
    "8) Calculate the Golden ration:\n",
    "\n",
    "1. Solve the problem without using libraries\n",
    "2. Use module math (import math) and function sqr (math.sqrt)"
   ]
  },
  {
   "cell_type": "code",
   "execution_count": 8,
   "metadata": {},
   "outputs": [
    {
     "name": "stdout",
     "output_type": "stream",
     "text": [
      "1.618033988749895\n"
     ]
    }
   ],
   "source": [
    "GoldenRatio=(1+(5**(1/2)))/2\n",
    "print(GoldenRatio)"
   ]
  },
  {
   "cell_type": "code",
   "execution_count": 9,
   "metadata": {},
   "outputs": [
    {
     "name": "stdout",
     "output_type": "stream",
     "text": [
      "1.618033988749895\n"
     ]
    }
   ],
   "source": [
    "import math\n",
    "Golden_ratio = (1+math.sqrt(5))/2\n",
    "print(GoldenRatio)"
   ]
  },
  {
   "cell_type": "markdown",
   "metadata": {},
   "source": [
    "9) Calculate the NPV (Net present value) of an investment, considering an initial investment of 10000, the following Cashflows 2000,3000, 4000, 4000 and 5000 and a discount rate of 10%."
   ]
  },
  {
   "cell_type": "code",
   "execution_count": 10,
   "metadata": {},
   "outputs": [
    {
     "name": "stdout",
     "output_type": "stream",
     "text": [
      "3139.440301519393\n"
     ]
    }
   ],
   "source": [
    "I = 10000\n",
    "CF1 = 2000\n",
    "CF2 = 3000\n",
    "CF3 = 4000\n",
    "CF4 = 4000\n",
    "CF5 = 5000\n",
    "\n",
    "r = 0.10\n",
    "\n",
    "NPV = (CF1/(1+r)) + CF2/(1+r)**2 + CF3/(1+r)**3 + CF4/(1+r)**4 + CF5/(1+r)**5 - I\n",
    "print(NPV)"
   ]
  },
  {
   "cell_type": "markdown",
   "metadata": {},
   "source": [
    "10) Ask the user to insert name and age. Calculate the birth year. Print a result saying the 'this person was born in.'\n",
    "\n",
    "1. Solve the problem without using modules and libraries\n",
    "2. Solve the problem using the date library from module datetime, as fallow:"
   ]
  },
  {
   "cell_type": "code",
   "execution_count": 11,
   "metadata": {},
   "outputs": [
    {
     "name": "stdout",
     "output_type": "stream",
     "text": [
      "What's your age?20\n",
      "What's your name?Ana\n",
      "Ana was born in 2000\n"
     ]
    }
   ],
   "source": [
    "age = int(input(\"What's your age?\"))\n",
    "name = str(input(\"What's your name?\"))\n",
    "BirthYear = 2020-int(age)\n",
    "print(name + \" was born in \" + str(BirthYear))"
   ]
  },
  {
   "cell_type": "code",
   "execution_count": 12,
   "metadata": {},
   "outputs": [
    {
     "name": "stdout",
     "output_type": "stream",
     "text": [
      "What's your age?20\n",
      "What's your name?Ana\n",
      "Ana was born in 2000\n"
     ]
    }
   ],
   "source": [
    "from datetime import date\n",
    "today = date.today()\n",
    "\n",
    "age = int(input(\"What's your age?\"))\n",
    "name = str(input(\"What's your name?\"))\n",
    "BirthYear = today.year - int(age)\n",
    "print(name + \" was born in \" + str(BirthYear))"
   ]
  },
  {
   "cell_type": "markdown",
   "metadata": {},
   "source": [
    "11) Ask the user to insert forenames, surnames. Create a new variable (name) with your complete name. Create the following variables:\n",
    "nameBig - all the characters of the name are capitalized\n",
    "nameTitle - only the first character of each name (word) is capitalized \n",
    "nameSmall - all the characters of the name are lowercase. \n",
    "nameCapitalized - only the first character of the first name is capitalized\n"
   ]
  },
  {
   "cell_type": "code",
   "execution_count": 16,
   "metadata": {},
   "outputs": [
    {
     "name": "stdout",
     "output_type": "stream",
     "text": [
      "What is your first name?Ana\n",
      "What is your surname?Silva\n",
      "ANA SILVA\n",
      "Ana Silva\n",
      "ana silva\n",
      "Ana silva\n"
     ]
    }
   ],
   "source": [
    "\n",
    "forename=input (\"What is your first name?\")\n",
    "surname=input (\"What is your surname?\")\n",
    "name=str(forename+\" \"+str(surname))\n",
    "nameTitle=name.title ()\n",
    "nameBig=nameTitle.upper()\n",
    "nameSmall=nameTitle.lower()\n",
    "nameCapitalized=nameTitle.capitalize()\n",
    "\n",
    "print(nameBig)\n",
    "print(nameTitle)\n",
    "print(nameSmall)\n",
    "print(nameCapitalized)"
   ]
  },
  {
   "cell_type": "markdown",
   "metadata": {},
   "source": [
    "12) Use the following method to show in which character appears the first \"da\" str.find(sub,start,end) What happens if the content of sub is not found in str?"
   ]
  },
  {
   "cell_type": "code",
   "execution_count": 18,
   "metadata": {},
   "outputs": [
    {
     "data": {
      "text/plain": [
       "-1"
      ]
     },
     "execution_count": 18,
     "metadata": {},
     "output_type": "execute_result"
    }
   ],
   "source": [
    "nameTitle = \"Ana Beatriz Silva\"\n",
    "nameTitle.find(\"da\",0,len(nameTitle))"
   ]
  },
  {
   "cell_type": "code",
   "execution_count": 19,
   "metadata": {},
   "outputs": [
    {
     "data": {
      "text/plain": [
       "12"
      ]
     },
     "execution_count": 19,
     "metadata": {},
     "output_type": "execute_result"
    }
   ],
   "source": [
    "nameTitle = \"Ana Beatriz da Silva\"\n",
    "nameTitle.find(\"da\",0,len(nameTitle))"
   ]
  },
  {
   "cell_type": "code",
   "execution_count": null,
   "metadata": {},
   "outputs": [],
   "source": []
  }
 ],
 "metadata": {
  "kernelspec": {
   "display_name": "Python 3",
   "language": "python",
   "name": "python3"
  },
  "language_info": {
   "codemirror_mode": {
    "name": "ipython",
    "version": 3
   },
   "file_extension": ".py",
   "mimetype": "text/x-python",
   "name": "python",
   "nbconvert_exporter": "python",
   "pygments_lexer": "ipython3",
   "version": "3.8.3"
  }
 },
 "nbformat": 4,
 "nbformat_minor": 4
}
